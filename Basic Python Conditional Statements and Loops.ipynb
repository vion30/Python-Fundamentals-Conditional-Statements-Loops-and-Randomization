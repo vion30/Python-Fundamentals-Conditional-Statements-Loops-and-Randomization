{
 "cells": [
  {
   "cell_type": "markdown",
   "id": "7551de2d-f4ca-4ee2-8d83-32cd23ef1e90",
   "metadata": {},
   "source": [
    "# Basic if else Statements"
   ]
  },
  {
   "cell_type": "code",
   "execution_count": 1,
   "id": "59fe6a03-9b64-4429-8a3c-4dce0cf0c341",
   "metadata": {},
   "outputs": [
    {
     "name": "stdin",
     "output_type": "stream",
     "text": [
      "Enter a character:  a\n"
     ]
    },
    {
     "name": "stdout",
     "output_type": "stream",
     "text": [
      " is a vowel\n"
     ]
    }
   ],
   "source": [
    "# Q1. Problem Statement: Vowel or a Consonant\n",
    "# Write a Python program that takes a character as input from the user and prints\n",
    "# whether the character entered by the user is a vowel or a consonant.\n",
    "\n",
    "ch = str(input(\"Enter a character: \")[0])\n",
    "\n",
    "vowels = ['a','e','i','o','u','A','E','I','O','U']\n",
    "\n",
    "if ch in vowels:\n",
    "    print(\" is a vowel\")\n",
    "    \n",
    "else:\n",
    "    print(\" is not a vowel\")\n",
    "    "
   ]
  },
  {
   "cell_type": "code",
   "execution_count": 3,
   "id": "8ed866b3-a9b9-4d17-bff6-4a3179840dde",
   "metadata": {},
   "outputs": [
    {
     "name": "stdin",
     "output_type": "stream",
     "text": [
      "Enter a number:  5\n"
     ]
    },
    {
     "name": "stdout",
     "output_type": "stream",
     "text": [
      "5 X 1 = 5\n",
      "5 X 2 = 10\n",
      "5 X 3 = 15\n",
      "5 X 4 = 20\n",
      "5 X 5 = 25\n",
      "5 X 6 = 30\n",
      "5 X 7 = 35\n",
      "5 X 8 = 40\n",
      "5 X 9 = 45\n",
      "5 X 10 = 50\n"
     ]
    }
   ],
   "source": [
    "# Q2. Problem Statement: Multiplication Table\n",
    "# Write a Python program that takes an integer as input and prints a multiplication\n",
    "# table from 1 to 10.\n",
    "\n",
    "\n",
    "num = int(input(\"Enter a number: \"))\n",
    "\n",
    "for i in range(1,11,1):\n",
    "    print(num,'X',i,'=',num*i)"
   ]
  },
  {
   "cell_type": "code",
   "execution_count": 1,
   "id": "39f8a557-fe60-4fc8-903e-e75cf78ddae4",
   "metadata": {},
   "outputs": [
    {
     "name": "stdin",
     "output_type": "stream",
     "text": [
      "enter one: burger/broccoli:-  burger\n"
     ]
    },
    {
     "name": "stdout",
     "output_type": "stream",
     "text": [
      "Cody is happy\n"
     ]
    }
   ],
   "source": [
    "food = input (\"enter one: burger/broccoli:- \")\n",
    "if (food == 'burger'):\n",
    "    print(\"Cody is happy\")\n",
    "elif (food == 'broccoli'):\n",
    "    print(\"Cody is sad\")\n",
    "else:\n",
    "    print (\"Cody is annoyed\")"
   ]
  },
  {
   "cell_type": "code",
   "execution_count": null,
   "id": "78e8cf36-f97a-415e-a481-9c04e66afb11",
   "metadata": {},
   "outputs": [],
   "source": [
    "# number has how many digits \n",
    "num = int (input (\"Enter a number between 0 to 999: \"))\n",
    "if (9<num<=99):\n",
    "    print(\"2 digits\")\n",
    "elif (99<num<=999):\n",
    "    print(\"3 digits\")\n",
    "else:\n",
    "    print(\"one digit\")"
   ]
  },
  {
   "cell_type": "markdown",
   "id": "dcb5ef32-3001-4f92-bd8d-288039b4542b",
   "metadata": {},
   "source": [
    "# Loops"
   ]
  },
  {
   "cell_type": "code",
   "execution_count": null,
   "id": "21476cd1-9f06-4830-b4f1-71b81248b0cb",
   "metadata": {},
   "outputs": [],
   "source": [
    "# importance of loops\n",
    "# print hello 10 times \n",
    "for i in range(10): # range generates numbers from 0 to 9\n",
    "    print(\"hello\", i)"
   ]
  },
  {
   "cell_type": "code",
   "execution_count": null,
   "id": "0d26afa0-c1ee-4c3f-8390-c18bc1654640",
   "metadata": {},
   "outputs": [],
   "source": [
    "# while loop - event controlled \n",
    "temp = 120\n",
    "while (temp > 112):\n",
    "    print (temp); temp = temp -1 \n",
    "else:\n",
    "    print(\"The tea is cool enough\")\n",
    "    "
   ]
  },
  {
   "cell_type": "code",
   "execution_count": null,
   "id": "78c7c871-2b51-4434-a659-069214a31a2d",
   "metadata": {},
   "outputs": [],
   "source": [
    "# determine how many digits are there in a number \n",
    "num = int (input (\"Enter a number\"))\n",
    "count = 0\n",
    "while (num > 0):\n",
    "    count+=1\n",
    "    num = num//10\n",
    "else:\n",
    "    print (f\"The number has {count} digits\")"
   ]
  },
  {
   "cell_type": "code",
   "execution_count": null,
   "id": "59503716-c617-43e0-8e9b-0c3b0c86fefd",
   "metadata": {},
   "outputs": [],
   "source": [
    "for char in \"string\":\n",
    "    print(char)"
   ]
  },
  {
   "cell_type": "code",
   "execution_count": 9,
   "id": "c09c0554-a3e8-48c7-9a80-3580fbeec1de",
   "metadata": {},
   "outputs": [
    {
     "name": "stdout",
     "output_type": "stream",
     "text": [
      "5 * 1 = 5\n",
      "5 * 2 = 10\n",
      "5 * 3 = 15\n",
      "5 * 4 = 20\n",
      "5 * 5 = 25\n",
      "5 * 6 = 30\n",
      "5 * 7 = 35\n",
      "5 * 8 = 40\n",
      "5 * 9 = 45\n",
      "5 * 10 = 50\n"
     ]
    }
   ],
   "source": [
    "#multiplication table \n",
    "num = 5\n",
    "for i in range (1,11): # range (start, end, steps) end is exclusive \n",
    "    print (f\"{num} * {i} = {i*num}\")\n",
    "\n",
    "# num = 200\n",
    "# for i in range (0,num,2): # range (start, end, steps) end is exclusive \n",
    "#     print (i)"
   ]
  },
  {
   "cell_type": "code",
   "execution_count": 17,
   "id": "7bad956f-45af-40f8-8c0a-9fb49cdd5697",
   "metadata": {},
   "outputs": [
    {
     "name": "stdout",
     "output_type": "stream",
     "text": [
      "     1      2      3      4      5 \n",
      "     2      4      6      8     10 \n",
      "     3      6      9     12     15 \n",
      "     4      8     12     16     20 \n",
      "     5     10     15     20     25 \n"
     ]
    }
   ],
   "source": [
    "# Define the size of the multiplication table\n",
    "size = 5\n",
    "\n",
    "# Outer loop for rows\n",
    "for i in range(1, size + 1):\n",
    "    # Inner loop for columns\n",
    "    for j in range(1, size + 1):\n",
    "        # Print the product of i and j, formatted with a width of 4 for alignment\n",
    "        print(f\"{i * j:6}\", end=\" \")  # by default end = '\\n'\n",
    "    # Print a new line after each row\n",
    "    print()"
   ]
  },
  {
   "cell_type": "code",
   "execution_count": null,
   "id": "adfaa1ad-1b70-4aaa-b055-be7d2d68948d",
   "metadata": {},
   "outputs": [],
   "source": [
    "#  program to print prime numbers from 1 to 10\n",
    "print(\"Prime numbers from 1 to 10:\")\n",
    "for num in range(1, 11):\n",
    "    if num <= 1:\n",
    "        continue\n",
    "    # Check for factors from 2 to sqrt(num)\n",
    "    flag = 0\n",
    "    for i in range(2, int(num**0.5) + 1):\n",
    "        if num % i == 0:\n",
    "            flag = 1\n",
    "            break\n",
    "    if (flag == 0):\n",
    "        print (num)"
   ]
  },
  {
   "cell_type": "code",
   "execution_count": 19,
   "id": "2703fec3-5926-466a-9904-c501a26b09b0",
   "metadata": {},
   "outputs": [
    {
     "name": "stdout",
     "output_type": "stream",
     "text": [
      "3\n"
     ]
    }
   ],
   "source": [
    "print ( int(10**0.5))"
   ]
  },
  {
   "cell_type": "code",
   "execution_count": 23,
   "id": "5f01a345-6519-40c6-98ad-57d11033321d",
   "metadata": {},
   "outputs": [
    {
     "name": "stdout",
     "output_type": "stream",
     "text": [
      "512\n"
     ]
    }
   ],
   "source": [
    "print(2 ** 3 ** 2)"
   ]
  },
  {
   "cell_type": "code",
   "execution_count": 25,
   "id": "774fdb0e-fc0f-47ff-a236-3beac7f19754",
   "metadata": {},
   "outputs": [
    {
     "name": "stdout",
     "output_type": "stream",
     "text": [
      "True\n",
      "[10, 20, 30, 40]\n",
      "[10, 20, 30, 40]\n"
     ]
    }
   ],
   "source": [
    "a = [10, 20]\n",
    "b = a\n",
    "print (a is b)\n",
    "b += [30, 40]\n",
    "print(a)\n",
    "print(b)\n",
    "#doubt"
   ]
  },
  {
   "cell_type": "code",
   "execution_count": 27,
   "id": "af00f16e-ea45-4b93-ac7d-d31ddfe01a69",
   "metadata": {},
   "outputs": [
    {
     "ename": "SyntaxError",
     "evalue": "invalid syntax (971796564.py, line 2)",
     "output_type": "error",
     "traceback": [
      "\u001b[1;36m  Cell \u001b[1;32mIn[27], line 2\u001b[1;36m\u001b[0m\n\u001b[1;33m    x = y += 2\u001b[0m\n\u001b[1;37m          ^\u001b[0m\n\u001b[1;31mSyntaxError\u001b[0m\u001b[1;31m:\u001b[0m invalid syntax\n"
     ]
    }
   ],
   "source": [
    "y = 10\n",
    "x = y += 2\n",
    "print(x)\n",
    "# doubt"
   ]
  },
  {
   "cell_type": "code",
   "execution_count": 29,
   "id": "b4507cb4-252e-4b20-a225-2ec046c70b99",
   "metadata": {},
   "outputs": [
    {
     "name": "stdout",
     "output_type": "stream",
     "text": [
      "216\n"
     ]
    }
   ],
   "source": [
    "print(2 * 3 ** 3 * 4)"
   ]
  },
  {
   "cell_type": "code",
   "execution_count": 31,
   "id": "2036bd4b-8ea7-4462-9b57-37d0cdedc9a0",
   "metadata": {},
   "outputs": [
    {
     "name": "stdout",
     "output_type": "stream",
     "text": [
      "50\n"
     ]
    }
   ],
   "source": [
    "x = 100\n",
    "y = 50\n",
    "print(x and y)"
   ]
  },
  {
   "cell_type": "code",
   "execution_count": 33,
   "id": "9173ffeb-c80c-4e29-9816-a41b69b44dfa",
   "metadata": {},
   "outputs": [
    {
     "name": "stdout",
     "output_type": "stream",
     "text": [
      "False True True True\n"
     ]
    }
   ],
   "source": [
    "print(bool(0), bool(3.14159), bool(-3), bool(1.0+1j))"
   ]
  },
  {
   "cell_type": "code",
   "execution_count": null,
   "id": "5f5b88c1-e03e-4f90-8975-c8853d0f0da8",
   "metadata": {},
   "outputs": [],
   "source": [
    "# swap the first and last element of list\n",
    "a = [1,2,3,4,5,6]\n",
    "a[0], a[-1] = a[-1], a[0]\n",
    "print(a)"
   ]
  },
  {
   "cell_type": "code",
   "execution_count": null,
   "id": "9de7a1c4-d757-4a5c-82df-b7f223b944dd",
   "metadata": {},
   "outputs": [],
   "source": [
    "string = \"geeks quiz practice code\"\n",
    "\n",
    "s = string.split()[::-1]\n",
    "\n",
    "print (s)\n",
    "\n",
    "print(\" \".join(s))\n"
   ]
  },
  {
   "cell_type": "code",
   "execution_count": null,
   "id": "e4301dd5-ab28-458d-9b17-7c85ec4e7fa6",
   "metadata": {},
   "outputs": [],
   "source": [
    "k = 2\n",
    "t = (5, 20, 3, 7, 6, 8)\n",
    "temp = sorted(t)\n",
    "res = tuple(temp[:k] + temp[-k:])\n",
    "print(res)"
   ]
  },
  {
   "cell_type": "code",
   "execution_count": null,
   "id": "3df4ef35-8287-4e59-a530-779ab1ff13b2",
   "metadata": {},
   "outputs": [],
   "source": [
    "n = 5\n",
    "for i in range (n, 0, -1):\n",
    "    print((n-i) * ' ' + i * '*')"
   ]
  },
  {
   "cell_type": "code",
   "execution_count": null,
   "id": "b28c4ab9-d26d-440a-bea9-90ebad7d2939",
   "metadata": {},
   "outputs": [],
   "source": []
  }
 ],
 "metadata": {
  "kernelspec": {
   "display_name": "Python 3 (ipykernel)",
   "language": "python",
   "name": "python3"
  },
  "language_info": {
   "codemirror_mode": {
    "name": "ipython",
    "version": 3
   },
   "file_extension": ".py",
   "mimetype": "text/x-python",
   "name": "python",
   "nbconvert_exporter": "python",
   "pygments_lexer": "ipython3",
   "version": "3.12.4"
  }
 },
 "nbformat": 4,
 "nbformat_minor": 5
}
